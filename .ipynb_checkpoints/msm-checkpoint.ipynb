{
 "cells": [
  {
   "cell_type": "markdown",
   "metadata": {},
   "source": [
    "# Markov-state model of an endocytic pattern recognition receptor\n",
    "\n",
    "SciPy John Hunter Excellence in Plotting Competition 2020\n",
    "\n",
    "Submitted by Jan-Oliver Joswig, PhD student in the Molecular Dynamics Group at Freie Universität Berlin, Germany "
   ]
  },
  {
   "cell_type": "markdown",
   "metadata": {},
   "source": [
    "## Scientific background\n",
    "\n"
   ]
  },
  {
   "cell_type": "markdown",
   "metadata": {},
   "source": [
    "The human body is under constant attack of various pathogenic threats by viruses, bacteria or infectious fungi. Thanks to our fascinating immune system, we can manage to stay healthy most of the time nonetheless. If we want to understand how our defense mechanisms work fundamentally, we have to take a close look at the biomolecules that are responsible for the whole machinery to function smoothly. We are currently studying the endocytic pattern recognition receptor langerin. This curious protein is one of many different receptors capturing invading pathogens before they can do any harm by infiltrating our cells. Langerin specifically responds for example to the measles, the influenza, and the HI-virus. But how does it do this exactly? What happens down on the atomistic level when a protein chain composed of many hundreds of amino acids selectively attaches to a virus? And what are the environmental factors effecting this process?\n",
    "In these days, we are maybe more than ever interested in answers to questions like these, not only as theoretical chemists but as society after all.\n",
    "\n",
    "For our study of biologically interesting molecules, we rely heavily on data from *Molecular Dynamics (MD) simulations*. In these simulations, the atoms are represented as points in $\\mathbb{R}^3$ with masses and velocities and the topology of the molecule (*i.e.* the bonds between atoms *etc.*) is modeled by parametrised interaction potentials. The atoms are then propagated in time according to Newton's equation of motion in tiny steps (on the order of a few femtoseconds). While this approach has limited – but often sufficient – accuracy, it allows the treatment of very big systems with many thousands of atoms. The primary result of such a simulation is a time series of molecular conformations, that reproduces the ensemble of structures as it is expected in nature. Of particular importance are the energetically favourable conformations, which are often observed and stable for a certain amount of time during the simulation. As the structure of a molecule ultimately defines its properties, they can be the key to understand and describe their (biological) function. Extracting this relevant information from an MD simulation is, however, not trivial, mainly due to two reasons: first, usually a lot of data is accumulated to draw reliable conclusions. Several millions of conformational snapshots are not uncommon and looking through them by hand (which although can be a nice thing to do with fancy videos of wiggling molecules) is error prone and can only deliver anecdotic evidence. And second, the definition of a molecular conformation is naturally fuzzy. We associate a conformation with a distinct state at the bottom of a potential energy well, but as each atom is described by three continuous dimensions (*x*-, *y*-, *z*-coordinates in cartesian space), the conformational space of a biomolecule is very high dimensional and the boarders between different conformations are seldom obvious.\n",
    "\n",
    "To overcome these difficulties, we employ the estimation of a kinetic model, a so called Markov-model, that filters out the important information we are interested in. In essence, such a model describes the dynamics of a molecule in terms of a transition probability matrix, in which each element contains the probability to observe a conformational transition between two arbitrarily defined states *i* and *j* within a certain time frame (lag time). A diagonalisation of this matrix delivers eigenvalues, that correspond to a time scale on which a transition between subspaces of the matrix occurs, and eigenvectors that indicate the location of these subspaces. In other words, the model shows us which conformations are the most stable ones, involved in the slowest transition processes. We collect those long-lived meta-stable conformations in clusters – also called meta stable sets – that can be investigated collectively.\n",
    "\n",
    "This contribution here tries to illustrate the still complex result of such a Markov-model on the example of langerin in a condensed fashion. While the underlying methods and steps leading to the final model can not easily be reported here, it is just intended to present the value of this analysis: the model describes the somewhat messy observation of about 30 million structures of langerin in relatively easy terms of 8 dominating states and transitions between them. The interactive plot allows to discover the different conformational states of the protein in a dimensionality reduced space. For more details on the background of this research project, let me refer you to the pre-print of our most recent [paper](https://www.biorxiv.org/content/10.1101/2020.03.11.986851v1). The most important fact that we learned from this model is, that special conformations in cluster 7 (cyan) exist under the influence of a low pH value. This is critical to understand how langerin exerts its function in the human body. Without such a model it is difficult to detect such conformations in the first place and hard to argue about their relative stability. \n",
    "\n",
    "The interactive plot is divided in three sub plots:\n",
    "\n",
    " - Right: an image shows a conformation of langerin. The default image highlights two amino acid residues in pink, that are known to react to a change of pH in the environment. The green residues build a binding-pocket for a calcium(2+) ion, that is a required co-factor for langerin to bind viruses. A click on a cluster icon in the legend (see upper left) switches the image to a conformation representing this cluster. Residues that are important to distinguish the cluster conformations are highlighted. \n",
    "\n",
    " - Upper left: a two dimensional projection of the MD trajectory into a transformed and reduced space that we obtained by time-lagged independent component analysis, a technique similar to principle component analysis. Shown is the probability density of conformations converted to free energies. Dark areas correspond to conformations with lower energy and therefore higher observation probability. A click on a cluster icon in the legend, draws the location of conformations in this cluster into the surface. By picking a dotted time scale line in the plot below (see lower left), instead of the surface colouring by energy, a colouring by a certain eigenvector can be chosen. Areas of opposite sign (blue or red) correspond to conformations that participate in this specific transition process.\n",
    " \n",
    " - Lower left: implied times scales. If a Markov-model is accurate, the time scale on which a certain transition process is observed should be independent of the lag time that is chosen to build the model, that is the dotted lines should stay constant, which is mostly the case here. We show the seven slowest processes connecting 8 clusters of stable conformations on time scales between 100 nanoseconds and 1.3 microseconds. "
   ]
  },
  {
   "cell_type": "markdown",
   "metadata": {},
   "source": [
    "## Pre-requirements to use this notebook"
   ]
  },
  {
   "cell_type": "code",
   "execution_count": 1,
   "metadata": {
    "ExecuteTime": {
     "end_time": "2020-05-18T08:41:35.878210Z",
     "start_time": "2020-05-18T08:41:35.785240Z"
    }
   },
   "outputs": [],
   "source": [
    "# Uses ipympl for an interactive plot\n",
    "%matplotlib widget"
   ]
  },
  {
   "cell_type": "code",
   "execution_count": 2,
   "metadata": {
    "ExecuteTime": {
     "end_time": "2020-05-18T08:41:35.890177Z",
     "start_time": "2020-05-18T08:41:35.880232Z"
    }
   },
   "outputs": [],
   "source": [
    "import sys\n",
    "\n",
    "from IPython.core.display import display, HTML\n",
    "import matplotlib as mpl\n",
    "import matplotlib.pyplot as plt\n",
    "from mpl_toolkits.axes_grid1 import make_axes_locatable\n",
    "import numpy as np"
   ]
  },
  {
   "cell_type": "code",
   "execution_count": 3,
   "metadata": {
    "ExecuteTime": {
     "end_time": "2020-05-18T08:41:35.918268Z",
     "start_time": "2020-05-18T08:41:35.895664Z"
    }
   },
   "outputs": [],
   "source": [
    "# Matplotlib configuration\n",
    "mpl.rcParams.update(mpl.rcParamsDefault)\n",
    "mpl.rc_file(\"matplotlibrc\", use_default_template=False)"
   ]
  },
  {
   "cell_type": "code",
   "execution_count": 4,
   "metadata": {
    "ExecuteTime": {
     "end_time": "2020-05-18T08:41:35.936741Z",
     "start_time": "2020-05-18T08:41:35.920683Z"
    }
   },
   "outputs": [
    {
     "data": {
      "text/html": [
       "<style>.container { width:90% !important; }</style>"
      ],
      "text/plain": [
       "<IPython.core.display.HTML object>"
      ]
     },
     "metadata": {},
     "output_type": "display_data"
    }
   ],
   "source": [
    "# Jupyter notebook configuration\n",
    "display(HTML(\"<style>.container { width:90% !important; }</style>\"))"
   ]
  },
  {
   "cell_type": "code",
   "execution_count": 5,
   "metadata": {
    "ExecuteTime": {
     "end_time": "2020-05-18T08:41:35.949598Z",
     "start_time": "2020-05-18T08:41:35.942028Z"
    }
   },
   "outputs": [
    {
     "name": "stdout",
     "output_type": "stream",
     "text": [
      "3.8.1 (default, Jan 23 2020, 07:59:15) \n",
      "[GCC 8.3.0]\n"
     ]
    }
   ],
   "source": [
    "# Python version information\n",
    "print(sys.version)"
   ]
  },
  {
   "cell_type": "markdown",
   "metadata": {},
   "source": [
    "## Data preparation"
   ]
  },
  {
   "cell_type": "code",
   "execution_count": 6,
   "metadata": {
    "ExecuteTime": {
     "end_time": "2020-05-18T08:41:35.970780Z",
     "start_time": "2020-05-18T08:41:35.952594Z"
    }
   },
   "outputs": [
    {
     "name": "stdout",
     "output_type": "stream",
     "text": [
      "MSM implied time scales for\n",
      "    7 transition processes\n",
      "    9 different lag times\n",
      "\n"
     ]
    }
   ],
   "source": [
    "# Implied time scale\n",
    "its = np.load(\"data/its.npy\")\n",
    "lags = np.load(\"data/lags.npy\")\n",
    "unit = \"ns\"\n",
    "\n",
    "print(\n",
    "    \"MSM implied time scales for\\n\"\n",
    "    f\"    {its.shape[0]} transition processes\\n\"\n",
    "    f\"    {its.shape[1]} different lag times\\n\"\n",
    ")"
   ]
  },
  {
   "cell_type": "code",
   "execution_count": 7,
   "metadata": {
    "ExecuteTime": {
     "end_time": "2020-05-18T08:41:35.986000Z",
     "start_time": "2020-05-18T08:41:35.974548Z"
    }
   },
   "outputs": [
    {
     "name": "stdout",
     "output_type": "stream",
     "text": [
      "Pseudo free energy surface for the ensemble\n",
      "    88 bins in component 1\n",
      "    88 bins in component 2\n",
      "\n"
     ]
    }
   ],
   "source": [
    "# Load ensemble projection\n",
    "dG = np.load(\"data/dG.npy\")\n",
    "x = np.load(\"data/x.npy\")\n",
    "y = np.load(\"data/y.npy\")\n",
    "X, Y = np.meshgrid(x, y)\n",
    "\n",
    "print(\n",
    "    \"Pseudo free energy surface for the ensemble\\n\"\n",
    "    f\"    {dG.shape[0]} bins in component 1\\n\"\n",
    "    f\"    {dG.shape[1]} bins in component 2\\n\"\n",
    ")"
   ]
  },
  {
   "cell_type": "code",
   "execution_count": 8,
   "metadata": {
    "ExecuteTime": {
     "end_time": "2020-05-18T08:41:36.006335Z",
     "start_time": "2020-05-18T08:41:35.989242Z"
    }
   },
   "outputs": [
    {
     "name": "stdout",
     "output_type": "stream",
     "text": [
      "Pseudo free energy surfaces for the meta-stable sets\n",
      "    75 bins in component 1\n",
      "    75 bins in component 2\n",
      "\n"
     ]
    }
   ],
   "source": [
    "# Load meta-stable set projections\n",
    "mset_dG = {}\n",
    "for mset in range(1, 9): \n",
    "    mset_dG[mset] = (\n",
    "        np.load(f\"data/dG_{mset}.npy\"),\n",
    "        np.load(f\"data/x_{mset}.npy\"),\n",
    "        np.load(f\"data/y_{mset}.npy\"),\n",
    "        )\n",
    "    \n",
    "for mset, (dG_, x_, y_) in mset_dG.items():\n",
    "    X_, Y_ = np.meshgrid(x_, y_)\n",
    "    mset_dG[mset] = (dG_, X_, Y_)\n",
    "    \n",
    "print(\n",
    "    \"Pseudo free energy surfaces for the meta-stable sets\\n\"\n",
    "    f\"    {mset_dG[1][0].shape[0]} bins in component 1\\n\"\n",
    "    f\"    {mset_dG[1][0].shape[1]} bins in component 2\\n\"\n",
    ")"
   ]
  },
  {
   "cell_type": "code",
   "execution_count": 9,
   "metadata": {
    "ExecuteTime": {
     "end_time": "2020-05-18T08:41:36.025493Z",
     "start_time": "2020-05-18T08:41:36.008829Z"
    }
   },
   "outputs": [
    {
     "name": "stdout",
     "output_type": "stream",
     "text": [
      "Eigenvector surface\n",
      "    75 bins in component 1\n",
      "    75 bins in component 2\n",
      "\n"
     ]
    }
   ],
   "source": [
    "# Load eigenvector projections\n",
    "evec_projections = {}\n",
    "for c in range(1, 8): \n",
    "    evec_projections[c] = (\n",
    "        np.load(f\"data/E_{c}.npy\"),\n",
    "        np.load(f\"data/x_e{c}.npy\"),\n",
    "        np.load(f\"data/y_e{c}.npy\"),\n",
    "        )\n",
    "\n",
    "for c, (E, x__, y__) in evec_projections.items():\n",
    "    X__, Y__ = np.meshgrid(x__, y__)\n",
    "    evec_projections[c] = (E, X__, Y__)\n",
    "    \n",
    "print(\n",
    "    \"Eigenvector surface\\n\"\n",
    "    f\"    {evec_projections[1][0].shape[0]} bins in component 1\\n\"\n",
    "    f\"    {evec_projections[1][0].shape[1]} bins in component 2\\n\"\n",
    ")"
   ]
  },
  {
   "cell_type": "markdown",
   "metadata": {},
   "source": [
    "## Plot"
   ]
  },
  {
   "cell_type": "code",
   "execution_count": 10,
   "metadata": {
    "ExecuteTime": {
     "end_time": "2020-05-18T08:41:36.481871Z",
     "start_time": "2020-05-18T08:41:36.027849Z"
    },
    "scrolled": true
   },
   "outputs": [
    {
     "data": {
      "application/vnd.jupyter.widget-view+json": {
       "model_id": "7447795fc9b64e0b8c239a074e0fa9c7",
       "version_major": 2,
       "version_minor": 0
      },
      "text/plain": [
       "Canvas(toolbar=Toolbar(toolitems=[('Home', 'Reset original view', 'home', 'home'), ('Back', 'Back to previous …"
      ]
     },
     "metadata": {},
     "output_type": "display_data"
    }
   ],
   "source": [
    "# Defaults\n",
    "o_markeredgewidth = 1  # original, unpicked\n",
    "e_markeredgewidth = 2  # emphasised, picked \n",
    "\n",
    "dG_levels = [0, 1, 2, 3, 4, 5, 6]  # levels for contour plot\n",
    "evec_levels = [-1, -0.8, -0.6, -0.4, -0.2, 0, 0.2, 0.4, 0.6, 0.8, 1]\n",
    "\n",
    "cluster_props = iter([  # marker, markerfacecolor, contour levels\n",
    "    (\"*\", \"blue\", [-1, 2.5]),\n",
    "    (\"X\", \"orange\", [-1, 3.5]),\n",
    "    (\"v\", \"green\", [-1, 2.5]),\n",
    "    (\"s\", \"red\", [-1, 3.2]),\n",
    "    (\"p\", \"purple\", [-1, 1.2]),\n",
    "    (\"h\", \"yellow\", [-1, 3.5]),\n",
    "    (\"d\", \"cyan\", [-1, 3.5]),\n",
    "    (\"8\", \"pink\", [-1, 1.2]),\n",
    "    ])\n",
    "\n",
    "cluster_image_map = {\n",
    "    None: \"data/conf.png\",\n",
    "    1: \"data/cl4.png\",\n",
    "    2: \"data/cl3.png\",\n",
    "    3: \"data/cl1.png\",\n",
    "    4: \"data/cl8.png\",\n",
    "    5: \"data/cl10.png\",\n",
    "    6: \"data/cl2.png\",\n",
    "    7: \"data/cl5.png\",\n",
    "    8: \"data/cl9.png\",\n",
    "    }   \n",
    "            \n",
    "# Figure\n",
    "plt.close(\"all\")\n",
    "fig = plt.figure(num=\"MSM\")\n",
    "\n",
    "# Set axes extent \n",
    "left = 0.08\n",
    "bottom = 0.08\n",
    "width_left = 0.38\n",
    "height_its = 0.3\n",
    "w_space = 0.07\n",
    "h_space = 0.05\n",
    "its_ax = fig.add_axes([left, bottom, width_left, height_its])\n",
    "proj_ax = fig.add_axes([left, bottom + height_its + h_space, width_left, 0.45])\n",
    "molecule_ax = fig.add_axes([left + width_left + w_space, bottom, 0.45, 0.8])\n",
    "\n",
    "\n",
    "# Helper functions\n",
    "def toggle_contour_visibility(c, state=None):\n",
    "    for path in c.collections:\n",
    "        if state is None:\n",
    "            path.set_visible(not path.get_visible)\n",
    "        else:\n",
    "            path.set_visible(state)\n",
    "\n",
    "            \n",
    "def show_molecule_image(key=None):\n",
    "    global molecule_ax\n",
    "    \n",
    "    im = plt.imread(cluster_image_map[key])\n",
    "    \n",
    "    molecule_ax.cla()\n",
    "    molecule_ax.imshow(im)    \n",
    "    \n",
    "    molecule_ax.set(**{\n",
    "    \"xticks\": (),\n",
    "    \"yticks\": (),\n",
    "    })\n",
    "\n",
    "def set_colorbar(mappable):\n",
    "    global cbar\n",
    "    \n",
    "    cax.cla()\n",
    "    \n",
    "    cbar = fig.colorbar(\n",
    "    mappable=mappable,\n",
    "    cax=cax,\n",
    "    ticks=mappable.levels,\n",
    "    )\n",
    "\n",
    "    cbar.set_label(mappable.label_)\n",
    "    \n",
    "\n",
    "# Implied time scale (ITS) plot\n",
    "its_lines = []\n",
    "for i in its:\n",
    "    its_lines.append(\n",
    "        its_ax.plot(\n",
    "            lags, i,\n",
    "            linestyle=\"--\",\n",
    "            color=\"k\",\n",
    "            marker=\"o\",\n",
    "            markersize=4,\n",
    "            markerfacecolor=next(its_ax._get_lines.prop_cycler)[\"color\"],\n",
    "            markeredgecolor=\"k\",\n",
    "            markeredgewidth=o_markeredgewidth,\n",
    "            picker=1\n",
    "            )[0]\n",
    "        )\n",
    "    \n",
    "    its_lines[-1].picked = False\n",
    "    # Attribute indicates if line is selected\n",
    "\n",
    "its_ax.set(**{\n",
    "    \"xlabel\": f\"τ / {unit}\",\n",
    "    \"ylabel\": f\"its / {unit}\",\n",
    "    \"ylim\": (0, None),\n",
    "    \"xlim\": (1.2, 16.5)\n",
    "    })\n",
    "\n",
    "# Projection plot\n",
    "contour_fill = proj_ax.contourf(\n",
    "    X, Y, dG,\n",
    "    cmap=mpl.cm.inferno,\n",
    "    levels=dG_levels,\n",
    "    antialiased=True,\n",
    "    zorder=0\n",
    "    )\n",
    "\n",
    "contour_fill.label_ = r\"$\\Delta G$ / $kT$\"\n",
    "\n",
    "contour_edges = proj_ax.contour(\n",
    "    X, Y, dG,\n",
    "    colors=\"k\",\n",
    "    linewidths=0.8,\n",
    "    levels=dG_levels,\n",
    "    antialiased=True,\n",
    "    zorder=1\n",
    "    )\n",
    "\n",
    "# Eigenvectors\n",
    "evec_contour_fill = []\n",
    "for c in range(1, 8):\n",
    "    E, X__, Y__ = evec_projections[c]\n",
    "    evec_contour_fill.append(proj_ax.contourf(\n",
    "        X__, Y__, E,\n",
    "        cmap=mpl.cm.RdBu,\n",
    "        levels=evec_levels,\n",
    "        vmin=-1, vmax=1,\n",
    "        antialiased=True,\n",
    "        zorder=0\n",
    "        ))\n",
    "\n",
    "    evec_contour_fill[-1].label_ = f\"{c}. eigenvector\"\n",
    "\n",
    "    toggle_contour_visibility(evec_contour_fill[-1])\n",
    "\n",
    "# Colorbars\n",
    "# axes divider for colorbars\n",
    "divider = make_axes_locatable(proj_ax)\n",
    "cax = divider.append_axes(\"right\", size=\"5%\", pad=0.1)\n",
    "\n",
    "set_colorbar(contour_fill)\n",
    "\n",
    "# Clusters\n",
    "cluster_contours = []\n",
    "contour_legendproxys = []\n",
    "\n",
    "for mset, (dG_, X_, Y_) in mset_dG.items():\n",
    "    cluster_marker, cluster_markerfacecolor, cluster_levels = next(\n",
    "        cluster_props\n",
    "        )\n",
    "    \n",
    "    cluster_contours.append(\n",
    "        proj_ax.contour(\n",
    "            X_, Y_, dG_,\n",
    "            colors=cluster_markerfacecolor,\n",
    "            antialiased=True,\n",
    "            levels=cluster_levels,\n",
    "            zorder=5\n",
    "            )\n",
    "        )\n",
    "\n",
    "    toggle_contour_visibility(cluster_contours[-1])\n",
    "        \n",
    "    contour_legendproxys.append(\n",
    "        mpl.lines.Line2D(\n",
    "            [], [],\n",
    "            linestyle=\" \",\n",
    "            marker=cluster_marker,\n",
    "            markerfacecolor=cluster_markerfacecolor,\n",
    "            markeredgewidth=o_markeredgewidth,\n",
    "            markeredgecolor=\"k\",\n",
    "            markersize=6,\n",
    "            label=f'{mset}'\n",
    "            )\n",
    "        )\n",
    "       \n",
    "# Cluster legend\n",
    "legend = proj_ax.legend(\n",
    "    handles=contour_legendproxys,\n",
    "    fancybox=False,\n",
    "    framealpha=1,\n",
    "    edgecolor=\"k\",\n",
    "    # edgewidth=1,\n",
    "    ncol=8,\n",
    "    handlelength=1.4,\n",
    "    borderpad=0.6,\n",
    "    handletextpad=0.1,\n",
    "    numpoints=1,\n",
    "    title=\"Metastable set\",\n",
    "    columnspacing=0.5,\n",
    "    loc=(0, 1.05),\n",
    "    )\n",
    "\n",
    "legend.get_frame().set_linewidth(proj_ax.spines[\"top\"].get_linewidth())\n",
    "\n",
    "legend_contour_mapping = {}\n",
    "for legend_line, contour in zip(legend.get_lines(), cluster_contours):\n",
    "    legend_line.set_picker(5)\n",
    "    legend_line.picked = False\n",
    "    legend_contour_mapping[legend_line] = contour\n",
    "    \n",
    "proj_ax.set(**{\n",
    "    \"xlabel\": f\"$tIC_1$\",\n",
    "    \"ylabel\": f\"$tIC_2$\",\n",
    "    \"xticks\": (),\n",
    "    \"yticks\": (),\n",
    "    })\n",
    "\n",
    "\n",
    "# Molecule\n",
    "show_molecule_image()\n",
    "\n",
    "\n",
    "# Interaction\n",
    "def update_its_state():\n",
    "    any_picked = False\n",
    "    for c, line in enumerate(its_lines):\n",
    "        if line.picked:\n",
    "            line.set_markeredgewidth(e_markeredgewidth)\n",
    "            any_picked = True\n",
    "            toggle_contour_visibility(contour_fill, state=False)\n",
    "            toggle_contour_visibility(evec_contour_fill[c], state=True)\n",
    "            set_colorbar(evec_contour_fill[c])\n",
    "        else:\n",
    "            line.set_markeredgewidth(o_markeredgewidth)\n",
    "            toggle_contour_visibility(evec_contour_fill[c], state=False)\n",
    "            \n",
    "    if not any_picked:\n",
    "        toggle_contour_visibility(contour_fill, state=True)\n",
    "        set_colorbar(contour_fill)\n",
    "     \n",
    "    \n",
    "def update_cluster_state():\n",
    "    global legend\n",
    "    \n",
    "    any_picked = False\n",
    "    for count, legend_line in enumerate(legend.get_lines(), 1):\n",
    "        if legend_line.picked:\n",
    "            toggle_contour_visibility(\n",
    "                legend_contour_mapping[legend_line], state=True\n",
    "                )\n",
    "            any_picked = True\n",
    "            show_molecule_image(key=count)\n",
    "        else:\n",
    "            toggle_contour_visibility(\n",
    "                legend_contour_mapping[legend_line], state=False\n",
    "                )\n",
    "        \n",
    "        if not any_picked:\n",
    "            show_molecule_image()\n",
    "    \n",
    "    \n",
    "def pick_its(event):\n",
    "    # print(event.artist, \"picked:\", event.artist.picked)\n",
    "    if not event.artist.picked:\n",
    "        for line in its_lines:\n",
    "            line.picked = False\n",
    "    event.artist.picked = not event.artist.picked\n",
    "    \n",
    "    update_its_state()\n",
    "    \n",
    "    \n",
    "def pick_cluster(event):\n",
    "    # print(event.artist, \"picked:\", event.artist.picked)\n",
    "    if not event.artist.picked:\n",
    "        for legend_line in legend.get_lines():\n",
    "            legend_line.picked = False\n",
    "    event.artist.picked = not event.artist.picked\n",
    "    \n",
    "    update_cluster_state()\n",
    "\n",
    "    \n",
    "def pick(event):\n",
    "    if event.artist in its_lines:\n",
    "        pick_its(event)  \n",
    "    elif event.artist in legend.get_lines():\n",
    "        pick_cluster(event)\n",
    "        \n",
    "    fig.canvas.draw()\n",
    "    \n",
    "    \n",
    "fig.canvas.mpl_connect('pick_event', pick)\n",
    "\n",
    "fig.show()"
   ]
  },
  {
   "cell_type": "markdown",
   "metadata": {},
   "source": [
    "Symbols, units and abbreviations:\n",
    "\n",
    "  - tIC: time-lagged independent component\n",
    "  - $\\Delta G$: free energy\n",
    "  - $k$: Boltzmann constant\n",
    "  - $T$: temperature\n",
    "  \n",
    "  - its: implied time scale\n",
    "  - ns: nanosecond(s)\n",
    "  - $\\tau$: lag time"
   ]
  }
 ],
 "metadata": {
  "kernelspec": {
   "display_name": "Python 3",
   "language": "python",
   "name": "python3"
  },
  "language_info": {
   "codemirror_mode": {
    "name": "ipython",
    "version": 3
   },
   "file_extension": ".py",
   "mimetype": "text/x-python",
   "name": "python",
   "nbconvert_exporter": "python",
   "pygments_lexer": "ipython3",
   "version": "3.8.1"
  },
  "toc": {
   "base_numbering": 1,
   "nav_menu": {},
   "number_sections": true,
   "sideBar": true,
   "skip_h1_title": true,
   "title_cell": "Table of Contents",
   "title_sidebar": "Contents",
   "toc_cell": false,
   "toc_position": {
    "height": "calc(100% - 180px)",
    "left": "10px",
    "top": "150px",
    "width": "164.988px"
   },
   "toc_section_display": true,
   "toc_window_display": false
  }
 },
 "nbformat": 4,
 "nbformat_minor": 4
}
